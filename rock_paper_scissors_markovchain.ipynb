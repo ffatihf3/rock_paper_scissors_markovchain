{
 "cells": [
  {
   "cell_type": "markdown",
   "metadata": {},
   "source": [
    "# Rock Paper Scissors with Markov Chain\n",
    "\n",
    "Dalam pembuatan game batu kertas gunting pada kali ini, saya mencoba membuat game tersebut yang dalam pengambilan keputusan dari lawan(bot komputer) menggunakan pendekatan algoritma Markov Chain yang mana dalam konsepnya di definisikan sebagai suatu proses dimana prediksi dapat dibuat mengenai hasil di masa depan hanya berdasarkan keadaan saat ini dan yang paling penting prediksi tersebut sama baiknya dengan prediksi yang dapat dibuat dengan mengetahui keseluruhan sejarah proses tersebut. Dengan kata lain, bergantung pada keadaan sistem saat ini, keadaan masa depan dan masa lalunya adalah independen.\n",
    "\n",
    "Authorized by Firyan Fatih Fadilah | 1IA19\n",
    "\n"
   ]
  },
  {
   "cell_type": "markdown",
   "metadata": {},
   "source": []
  },
  {
   "cell_type": "markdown",
   "metadata": {},
   "source": [
    "### 1. Mengimport modul yang dibutuhkan \n"
   ]
  },
  {
   "cell_type": "code",
   "execution_count": 1,
   "metadata": {},
   "outputs": [],
   "source": [
    "#tabulate digunakan untuk membuat tabel dengan format yang rapi, Enum untuk mendefinisikan konstanta enumerasi, dan numpy untuk operasi numerik dan pemilihan angka.\n",
    "from tabulate import tabulate\n",
    "from enum import Enum\n",
    "import numpy as np\n"
   ]
  },
  {
   "cell_type": "markdown",
   "metadata": {},
   "source": [
    "### 2. Mendefinisikan Kelas MarkovChain dan Aturan Permainan\n",
    "\n",
    "Mendefinisikan kelas MarkovChain dan aturan permainan batu gunting kertas yang akan berlaku pada program ini."
   ]
  },
  {
   "cell_type": "code",
   "execution_count": null,
   "metadata": {},
   "outputs": [],
   "source": [
    "class MarkovChain:\n",
    "\n",
    "    class rps(Enum):\n",
    "        ROCK = 0\n",
    "        PAPER = 1\n",
    "        SCISSORS = 2\n",
    "\n",
    "    game_rules = {\n",
    "        rps.SCISSORS: rps.ROCK,\n",
    "        rps.ROCK: rps.PAPER,\n",
    "        rps.PAPER: rps.SCISSORS\n",
    "    }"
   ]
  },
  {
   "cell_type": "markdown",
   "metadata": {},
   "source": [
    "### 3. Mendefinisikan Inisialisasi Kelas dan Gerbang Game\n",
    "\n",
    "Mendefinisikan konstruktor kelas MarkovChain yang menerima skor target, dan metode start_new_game yang akan memulai permainan baru."
   ]
  },
  {
   "cell_type": "code",
   "execution_count": null,
   "metadata": {},
   "outputs": [],
   "source": [
    "def __init__(self, target_score):\n",
    "        self.target_score = target_score\n",
    "\n",
    "def start_new_game(self):\n",
    "        self.match_count = 0\n",
    "        self.current_score = 0\n",
    "        self.initial_matrix = self.init_markov_model()\n",
    "        self.round_results = [['Round', 'Hoooman vs Mr.Computer', 'Match Result']]\n",
    "        self.play_game()"
   ]
  },
  {
   "cell_type": "markdown",
   "metadata": {},
   "source": [
    "### 4. Mendefinisikan Inisialisasi Model Markov\n",
    "\n",
    "Mendefinisikan metode init_markov_model yang akan menginisialisasi matriks probabilitas awal untuk model Markov."
   ]
  },
  {
   "cell_type": "code",
   "execution_count": null,
   "metadata": {},
   "outputs": [],
   "source": [
    "def init_markov_model(self):\n",
    "        return {\n",
    "            self.rps.ROCK.name: [1, 1, 1],\n",
    "            self.rps.SCISSORS.name: [1, 1, 1],\n",
    "            self.rps.PAPER.name: [1, 1, 1]\n",
    "        }"
   ]
  },
  {
   "cell_type": "markdown",
   "metadata": {},
   "source": [
    "### 5. Mendefinisikan Method play_game dan play_round\n",
    "\n",
    "Mendefinisikan metode play_game yang akan menjalankan permainan secara keseluruhan, dan metode play_round yang akan menjalankan satu putaran permainan."
   ]
  },
  {
   "cell_type": "code",
   "execution_count": null,
   "metadata": {},
   "outputs": [],
   "source": [
    "def play_game(self):\n",
    "        previous_user_input = None\n",
    "        while -self.target_score < self.current_score < self.target_score:\n",
    "            previous_user_input = self.play_round(previous_user_input)\n",
    "        final_result_message = f'\\n[Your Score / Your Target]: {self.current_score} / {self.target_score}\\nYou ' + ('Win 🏅' if self.target_score == self.current_score else 'Lose 🤡')\n",
    "        print(tabulate(self.round_results, tablefmt=\"fancy_grid\"))\n",
    "        print(final_result_message)\n",
    "        print(\"Press Enter To Exit..\")\n",
    "        input()\n",
    "        print(\"Thank You For Playing With Us! 🗿\")\n",
    "        quit()\n",
    "    \n",
    "def play_round(self, previous_user_input):\n",
    "        self.match_count += 1\n",
    "        computer_input = self.handle_computer_input(previous_user_input)\n",
    "        user_input = self.handle_player_input()\n",
    "\n",
    "        self.current_score += self.check_round_results(user_input, computer_input)\n",
    "        self.learn(previous_user_input, user_input)\n",
    "\n",
    "        user_choice_emoji = self.get_emoji(user_input)\n",
    "        computer_choice_emoji = self.get_emoji(computer_input)\n",
    "\n",
    "        round_result = \"Win \" if self.check_round_results(user_input, computer_input) == 1 else (\n",
    "            \"Lose \" if self.check_round_results(user_input, computer_input) == -1 else \"Draw \"\n",
    "        )\n",
    "\n",
    "        self.round_results.append([f'{self.match_count}', f\"{user_choice_emoji} - {computer_choice_emoji}\", f\"{round_result}\"])\n",
    "        print(f\"[👨🏻‍💼 / 👾 ]: {user_choice_emoji} - {computer_choice_emoji}\\nResult: {round_result}\")\n",
    "\n",
    "        previous_user_input = user_input\n",
    "        return previous_user_input"
   ]
  },
  {
   "cell_type": "markdown",
   "metadata": {},
   "source": [
    "### 6. Mendefinisikan Method predict_next_user_input dan learn\n",
    "\n",
    "Mendefinisikan metode predict_next_user_input yang akan memprediksi pilihan pengguna berikutnya menggunakan konsep Markov Chain, dan metode learn yang akan memperbarui matriks probabilitas berdasarkan pilihan pengguna."
   ]
  },
  {
   "cell_type": "code",
   "execution_count": null,
   "metadata": {},
   "outputs": [],
   "source": [
    "def predict_next_user_input(self, user_input):\n",
    "        pred_sum = sum(self.initial_matrix[user_input.name])\n",
    "        probability = [el / pred_sum for el in self.initial_matrix[user_input.name]]\n",
    "        return np.random.choice(list(self.rps), replace=True, p=probability)\n",
    "\n",
    "def learn(self, previous_user_input, user_input):\n",
    "        if previous_user_input is None:\n",
    "            return\n",
    "        self.initial_matrix.get(previous_user_input.name)[user_input.value] += 1\n"
   ]
  },
  {
   "cell_type": "markdown",
   "metadata": {},
   "source": [
    "### 7. Mendefinisikan Method Tambahan Lainnya\n",
    "\n",
    "Mendefinisikan metode pendukung lainnya seperti check_round_results untuk mengecek hasil putaran, handle_player_input untuk menangani input pengguna, handle_computer_input untuk menentukan pilihan komputer, dan get_emoji untuk mendapatkan emoji yang sesuai dengan pilihan."
   ]
  },
  {
   "cell_type": "code",
   "execution_count": null,
   "metadata": {},
   "outputs": [],
   "source": [
    "def check_round_results(self, user_input, computer_input):\n",
    "        if self.game_rules.get(user_input) == computer_input:\n",
    "            return -1\n",
    "        if user_input == computer_input:\n",
    "            return 0\n",
    "        return 1\n",
    "\n",
    "def handle_player_input(self):\n",
    "        print_rps_options()\n",
    "        user_input = input(f'{self.match_count}) Enter your choice (1, 2, or 3): ')\n",
    "        while user_input not in ['1', '2', '3']:\n",
    "            print(\"Invalid entry. Please try again.\")\n",
    "            print_rps_options()\n",
    "        return self.rps(int(user_input) - 1)\n",
    "\n",
    "def handle_computer_input(self, user_input):\n",
    "        if self.match_count < 1 or user_input is None:\n",
    "            return np.random.choice(list(self.rps))\n",
    "        prediction = self.predict_next_user_input(user_input)\n",
    "        computer_input = self.game_rules[prediction]\n",
    "        return computer_input\n",
    "    \n",
    "def get_emoji(self, choice):\n",
    "        if choice == self.rps.ROCK:\n",
    "            return \"👊\"\n",
    "        elif choice == self.rps.PAPER:\n",
    "            return \"✋\"\n",
    "        else:\n",
    "            return \"🖖\""
   ]
  },
  {
   "cell_type": "markdown",
   "metadata": {},
   "source": [
    "### 8. Mendefinisikan Fungsi print_rps_options\n",
    "\n",
    "Mendefinisikan fungsi print_rps_options yang akan menampilkan pilihan elemen (batu, gunting, kertas) kepada pengguna."
   ]
  },
  {
   "cell_type": "code",
   "execution_count": null,
   "metadata": {},
   "outputs": [],
   "source": [
    "def print_rps_options():\n",
    "    print(\"Choose Your Element:\")\n",
    "    print(\"👊 (1)\")\n",
    "    print(\"✋ (2)\")\n",
    "    print(\"🖖 (3)\")\n"
   ]
  },
  {
   "cell_type": "markdown",
   "metadata": {},
   "source": [
    "### 9. Menjalankan Program Utama\n",
    "\n",
    "Menjalankan program utama dengan meminta pengguna memasukkan skor target, membuat objek MarkovChain dengan skor target tersebut, dan memulai permainan baru dengan memanggil metode start_new_game."
   ]
  },
  {
   "cell_type": "code",
   "execution_count": null,
   "metadata": {},
   "outputs": [],
   "source": [
    "if __name__ == \"__main__\":\n",
    "    while True:\n",
    "        target_score_input = input(\"Enter Target Score: \")\n",
    "        try:\n",
    "            target_score = int(target_score_input)\n",
    "            if target_score > 0:\n",
    "                break\n",
    "            else:\n",
    "                print(\"The target score must be a positive number. Please try again.\")\n",
    "        except ValueError:\n",
    "            print(\"Invalid input. Please enter a positive number.\")\n",
    "\n",
    "    MarkovChain = MarkovChain(target_score)\n",
    "    MarkovChain.start_new_game()"
   ]
  },
  {
   "cell_type": "code",
   "execution_count": null,
   "metadata": {},
   "outputs": [],
   "source": []
  }
 ],
 "metadata": {
  "kernelspec": {
   "display_name": "Python 3 (ipykernel)",
   "language": "python",
   "name": "python3"
  },
  "language_info": {
   "codemirror_mode": {
    "name": "ipython",
    "version": 3
   },
   "file_extension": ".py",
   "mimetype": "text/x-python",
   "name": "python",
   "nbconvert_exporter": "python",
   "pygments_lexer": "ipython3",
   "version": "3.11.5"
  }
 },
 "nbformat": 4,
 "nbformat_minor": 4
}
